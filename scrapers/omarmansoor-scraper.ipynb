{
 "cells": [
  {
   "cell_type": "code",
   "execution_count": 1,
   "metadata": {},
   "outputs": [
    {
     "name": "stdout",
     "output_type": "stream",
     "text": [
      "Downloaded images/zhui-feng-dress.jpg\n"
     ]
    },
    {
     "ename": "KeyboardInterrupt",
     "evalue": "",
     "output_type": "error",
     "traceback": [
      "\u001b[31m---------------------------------------------------------------------------\u001b[39m",
      "\u001b[31mKeyboardInterrupt\u001b[39m                         Traceback (most recent call last)",
      "\u001b[36mCell\u001b[39m\u001b[36m \u001b[39m\u001b[32mIn[1]\u001b[39m\u001b[32m, line 62\u001b[39m\n\u001b[32m     60\u001b[39m os.makedirs(\u001b[33m'\u001b[39m\u001b[33mimages\u001b[39m\u001b[33m'\u001b[39m, exist_ok=\u001b[38;5;28;01mTrue\u001b[39;00m)\n\u001b[32m     61\u001b[39m \u001b[38;5;28;01mfor\u001b[39;00m link \u001b[38;5;129;01min\u001b[39;00m product_links:\n\u001b[32m---> \u001b[39m\u001b[32m62\u001b[39m     img_url = \u001b[43mget_product_image\u001b[49m\u001b[43m(\u001b[49m\u001b[43mlink\u001b[49m\u001b[43m)\u001b[49m\n\u001b[32m     63\u001b[39m     \u001b[38;5;28;01mif\u001b[39;00m img_url:\n\u001b[32m     64\u001b[39m         fname = os.path.join(\u001b[33m'\u001b[39m\u001b[33mimages\u001b[39m\u001b[33m'\u001b[39m, link.split(\u001b[33m'\u001b[39m\u001b[33m/\u001b[39m\u001b[33m'\u001b[39m)[-\u001b[32m1\u001b[39m] + \u001b[33m'\u001b[39m\u001b[33m.jpg\u001b[39m\u001b[33m'\u001b[39m)\n",
      "\u001b[36mCell\u001b[39m\u001b[36m \u001b[39m\u001b[32mIn[1]\u001b[39m\u001b[32m, line 40\u001b[39m, in \u001b[36mget_product_image\u001b[39m\u001b[34m(product_url)\u001b[39m\n\u001b[32m     38\u001b[39m \u001b[38;5;28;01mdef\u001b[39;00m\u001b[38;5;250m \u001b[39m\u001b[34mget_product_image\u001b[39m(product_url):\n\u001b[32m     39\u001b[39m     driver.get(product_url)\n\u001b[32m---> \u001b[39m\u001b[32m40\u001b[39m     \u001b[43mtime\u001b[49m\u001b[43m.\u001b[49m\u001b[43msleep\u001b[49m\u001b[43m(\u001b[49m\u001b[32;43m5\u001b[39;49m\u001b[43m)\u001b[49m  \u001b[38;5;66;03m# Wait for images to load and unblur\u001b[39;00m\n\u001b[32m     41\u001b[39m     \u001b[38;5;66;03m# Find the main product image (update selector as needed)\u001b[39;00m\n\u001b[32m     42\u001b[39m     images = driver.find_elements(By.CSS_SELECTOR, \u001b[33m'\u001b[39m\u001b[33mimg[src*=\u001b[39m\u001b[33m\"\u001b[39m\u001b[33mstatic.wixstatic.com/media/\u001b[39m\u001b[33m\"\u001b[39m\u001b[33m]\u001b[39m\u001b[33m'\u001b[39m)\n",
      "\u001b[31mKeyboardInterrupt\u001b[39m: "
     ]
    }
   ],
   "source": [
    "from selenium import webdriver\n",
    "from selenium.webdriver.chrome.service import Service\n",
    "from webdriver_manager.chrome import ChromeDriverManager\n",
    "from selenium.webdriver.common.by import By\n",
    "from selenium.webdriver.chrome.options import Options\n",
    "import time\n",
    "import os\n",
    "\n",
    "# Setup headless Chrome\n",
    "options = Options()\n",
    "options.headless = True\n",
    "driver = webdriver.Chrome(service=Service(ChromeDriverManager().install()), options=options)\n",
    "\n",
    "def get_all_product_links(base_url, total_pages=4):\n",
    "    all_links = []\n",
    "    for page in range(1, total_pages + 1):\n",
    "        url = f\"{base_url}?page={page}\"\n",
    "        driver.get(url)\n",
    "        time.sleep(3)  # Wait for JS to load\n",
    "        links = []\n",
    "        for a in driver.find_elements(By.CSS_SELECTOR, 'a[href*=\"/product-page/\"]'):\n",
    "            href = a.get_attribute('href')\n",
    "            if href and href not in all_links:\n",
    "                all_links.append(href)\n",
    "    return all_links\n",
    "\n",
    "def get_product_links(collection_url):\n",
    "    driver.get(collection_url)\n",
    "    time.sleep(3)  # Wait for JS to load\n",
    "    links = []\n",
    "    # Find all product links (update selector as needed)\n",
    "    for a in driver.find_elements(By.CSS_SELECTOR, 'a[href*=\"/product-page/\"]'):\n",
    "        href = a.get_attribute('href')\n",
    "        if href and href not in links:\n",
    "            links.append(href)\n",
    "    return links\n",
    "\n",
    "def get_product_image(product_url):\n",
    "    driver.get(product_url)\n",
    "    time.sleep(5)  # Wait for images to load and unblur\n",
    "    # Find the main product image (update selector as needed)\n",
    "    images = driver.find_elements(By.CSS_SELECTOR, 'img[src*=\"static.wixstatic.com/media/\"]')\n",
    "    # Optionally, filter by size or alt attribute\n",
    "    for img in images:\n",
    "        src = img.get_attribute('src')\n",
    "        alt = img.get_attribute('alt')\n",
    "        if src and alt and \"Dress\" in alt:  # crude filter, adjust as needed\n",
    "            return src\n",
    "    return None\n",
    "\n",
    "def download_image(url, filename):\n",
    "    import requests\n",
    "    r = requests.get(url)\n",
    "    with open(filename, 'wb') as f:\n",
    "        f.write(r.content)\n",
    "\n",
    "# Main\n",
    "collection_url = 'https://www.omarmansoor.com/all-collections'\n",
    "product_links = get_all_product_links(collection_url, total_pages=4)\n",
    "os.makedirs('images', exist_ok=True)\n",
    "for link in product_links:\n",
    "    img_url = get_product_image(link)\n",
    "    if img_url:\n",
    "        fname = os.path.join('images', link.split('/')[-1] + '.jpg')\n",
    "        download_image(img_url, fname)\n",
    "        print(f'Downloaded {fname}')\n",
    "driver.quit()"
   ]
  },
  {
   "cell_type": "code",
   "execution_count": null,
   "metadata": {},
   "outputs": [],
   "source": []
  }
 ],
 "metadata": {
  "kernelspec": {
   "display_name": ".venv",
   "language": "python",
   "name": "python3"
  },
  "language_info": {
   "codemirror_mode": {
    "name": "ipython",
    "version": 3
   },
   "file_extension": ".py",
   "mimetype": "text/x-python",
   "name": "python",
   "nbconvert_exporter": "python",
   "pygments_lexer": "ipython3",
   "version": "3.12.0"
  }
 },
 "nbformat": 4,
 "nbformat_minor": 2
}
